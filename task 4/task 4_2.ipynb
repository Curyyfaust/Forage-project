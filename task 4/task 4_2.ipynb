{
 "cells": [
  {
   "cell_type": "code",
   "execution_count": 1,
   "id": "885f31dc",
   "metadata": {},
   "outputs": [],
   "source": [
    "from datetime import date\n",
    "import math"
   ]
  },
  {
   "cell_type": "code",
   "execution_count": 2,
   "id": "3677e4f7",
   "metadata": {},
   "outputs": [],
   "source": [
    "def price_contract(in_dates,in_prices,out_dates,out_prices,rate,\n",
    "                  storage_cost_rate,total_vol,injection_withdrawal_cost_rate):\n",
    "    \n",
    "    \"\"\"\n",
    "    volume:天然气存储量\n",
    "    buy_cost:购买成本\n",
    "    cash_in:现金流入\n",
    "     \n",
    "    如果当前日期在输入日期列表中，则表示需要注入天然气\n",
    "    首先检查存储容量是否允许注入指定速率的天然气。\n",
    "    如果允许，则更新存储的天然气量，并计算购买天然气的成本和注入天然气的成本。\n",
    "    \n",
    "    如果当前日期在输出日期列表中，则表示需要提取天然气\n",
    "    首先检查存储的天然气量是否足够提取指定速率的天然气。\n",
    "    如果足够，则更新存储的天然气量，并计算提取天然气的收入和提取天然气的成本。\n",
    "        \n",
    "    \n",
    "    \"\"\"\n",
    "    volume=0\n",
    "    buy_cost=0\n",
    "    cash_in=0\n",
    "    last_date=min(min(in_dates),min(out_dates))\n",
    "    \n",
    "    \n",
    "    #日期顺序处理\n",
    "    all_dates=sorted(set(in_dates+out_dates))\n",
    "    \n",
    "    for i in range(len(all_dates)):\n",
    "        start_date=all_dates[i]\n",
    "        \n",
    "        if start_date in in_dates:\n",
    "   \n",
    "            if volume<=total_vol-rate:\n",
    "                volume+=rate\n",
    "                buy_cost+=rate*in_prices[in_dates.index(start_date)]\n",
    "                injection_cost=rate*injection_withdrawal_cost_rate\n",
    "                buy_cost+=injection_cost\n",
    "                print(\"Injected gas on %s at a price of %s\"%(start_date,\n",
    "                                                            in_prices[in_dates.index(start_date)]))\n",
    "            else:\n",
    "                print('Injection is not possible on date %s as there is insufficient space in the storage facility'%start_date)\n",
    "            \n",
    "        elif start_date in out_dates:\n",
    "            \n",
    "            if volume>=rate:\n",
    "                volume-=rate\n",
    "                cash_in+=rate*out_prices[out_dates.index(start_date)]\n",
    "                withdrawal_cost=rate*injection_withdrawal_cost_rate\n",
    "                cash_in-=withdrawal_cost\n",
    "                print(\"Extracted gas on %s at a price of %s\"%(start_date,out_prices[out_dates.index(start_date)]))\n",
    "            \n",
    "            else:\n",
    "                print('Extraction is not possible on date %s as there is insufficient space in the storage facility'%start_date)\n",
    "                \n",
    "    \n",
    "    store_cost=math.ceil((max(out_dates)-min(in_dates)).days//30*storage_cost_rate)\n",
    "    \n",
    "    return cash_in-store_cost-buy_cost\n",
    "             "
   ]
  },
  {
   "cell_type": "code",
   "execution_count": 3,
   "id": "1e1ecbbc",
   "metadata": {},
   "outputs": [
    {
     "name": "stdout",
     "output_type": "stream",
     "text": [
      "Injected gas on 2022-01-01 at a price of 20\n",
      "Extracted gas on 2022-01-27 at a price of 23\n",
      "Injected gas on 2022-02-01 at a price of 21\n",
      "Extracted gas on 2022-02-15 at a price of 19\n",
      "Injected gas on 2022-02-21 at a price of 20.5\n",
      "Extracted gas on 2022-03-20 at a price of 21\n",
      "Injected gas on 2022-04-01 at a price of 22\n",
      "Extracted gas on 2022-06-01 at a price of 25\n",
      "\n",
      "The value of the contract is: $399600.0\n"
     ]
    }
   ],
   "source": [
    "in_dates = [date(2022, 1, 1), date(2022, 2, 1), date(2022, 2, 21), date(2022, 4, 1)] #injection dates\n",
    "in_prices = [20, 21, 20.5, 22]#prices on the injection days\n",
    "out_dates = [date(2022, 1, 27), date(2022, 2, 15), date(2022, 3, 20), date(2022, 6, 1)] # extraction dates\n",
    "out_prices = [23, 19, 21, 25] # prices on the extraction days\n",
    "rate = 100000  # rate of gas in cubic feet per day\n",
    "storage_cost_rate = 10000  # total volume in cubic feet\n",
    "injection_withdrawal_cost_rate = 0.0005  # $/cf\n",
    "max_storage_volume = 500000 # maximum storage capacity of the storage facility\n",
    "result = price_contract(in_dates, in_prices, out_dates, out_prices, rate, storage_cost_rate, max_storage_volume, injection_withdrawal_cost_rate)\n",
    "print()\n",
    "print(f\"The value of the contract is: ${result}\")"
   ]
  },
  {
   "cell_type": "code",
   "execution_count": null,
   "id": "62b993b1",
   "metadata": {},
   "outputs": [],
   "source": []
  }
 ],
 "metadata": {
  "kernelspec": {
   "display_name": "Python 3 (ipykernel)",
   "language": "python",
   "name": "python3"
  },
  "language_info": {
   "codemirror_mode": {
    "name": "ipython",
    "version": 3
   },
   "file_extension": ".py",
   "mimetype": "text/x-python",
   "name": "python",
   "nbconvert_exporter": "python",
   "pygments_lexer": "ipython3",
   "version": "3.10.9"
  }
 },
 "nbformat": 4,
 "nbformat_minor": 5
}
